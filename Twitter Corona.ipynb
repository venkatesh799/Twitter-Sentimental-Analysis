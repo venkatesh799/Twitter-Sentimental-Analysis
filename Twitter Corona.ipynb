{
 "cells": [
  {
   "cell_type": "markdown",
   "metadata": {},
   "source": [
    "### importing libraries"
   ]
  },
  {
   "cell_type": "code",
   "execution_count": 187,
   "metadata": {},
   "outputs": [],
   "source": [
    "import tweepy\n",
    "import pandas as pd\n",
    "import seaborn as sns\n",
    "import matplotlib.pyplot as plt\n",
    "from wordcloud import WordCloud\n",
    "from textblob import TextBlob\n",
    "import re"
   ]
  },
  {
   "cell_type": "markdown",
   "metadata": {},
   "source": [
    "### Twitter Credentials"
   ]
  },
  {
   "cell_type": "code",
   "execution_count": 188,
   "metadata": {},
   "outputs": [],
   "source": [
    "consumer_key = \"------YOUR CONSUMER KEY------\"\n",
    "consumer_secret = \"------YOUR CONSUMER SECRET KEY-----\"\n",
    "access_token = \"-----YOUR ACCESS TOKEN------\"\n",
    "access_token_secret = \"----YOUR ACCESS TOKEN SECRET KEY------\""
   ]
  },
  {
   "cell_type": "markdown",
   "metadata": {},
   "source": [
    "### Authenticating with twitter"
   ]
  },
  {
   "cell_type": "code",
   "execution_count": 189,
   "metadata": {},
   "outputs": [],
   "source": [
    "authenticate = tweepy.OAuthHandler(consumer_key,consumer_secret)\n",
    "authenticate.set_access_token(access_token,access_token_secret)"
   ]
  },
  {
   "cell_type": "markdown",
   "metadata": {},
   "source": [
    "### Creating Twitter API"
   ]
  },
  {
   "cell_type": "code",
   "execution_count": 190,
   "metadata": {},
   "outputs": [],
   "source": [
    "api = tweepy.API(authenticate,wait_on_rate_limit=True)"
   ]
  },
  {
   "cell_type": "markdown",
   "metadata": {},
   "source": [
    "### searching for topic"
   ]
  },
  {
   "cell_type": "code",
   "execution_count": 191,
   "metadata": {},
   "outputs": [],
   "source": [
    "posts = api.search(\"corona\",lang=\"en\",count=100)"
   ]
  },
  {
   "cell_type": "code",
   "execution_count": 192,
   "metadata": {},
   "outputs": [
    {
     "name": "stdout",
     "output_type": "stream",
     "text": [
      "1 ) RT @BLUEPRINT_Q: Proven by NIH 15 years ago, HCQ prevents and cures early stage corona infection by piercing the cell, enabling Zinc to ent…\n",
      "2 ) RT @HollywoodKole: @petty_marshall That's because corona snatched all our clocks. Mentally it's still March cause we haven't done any of th…\n",
      "3 ) @Ilhan That's the Corona death rate. Vote in person!\n",
      "4 ) RT @DushyantR3: #No_offline_Exam_Gehlot_Ji \n",
      "#postponeNEETandJEE \n",
      "@LicypriyaK \n",
      "@DrRPNishank \n",
      "People who have been affect with corona have be…\n",
      "5 ) RT @clownlito: I wish corona virus started in Las Vegas cuz what happens in Vegas stays in Vegas\n"
     ]
    }
   ],
   "source": [
    "# Showing first 5 Tweets\n",
    "j=1\n",
    "for tweet in posts[0:5]:\n",
    "    print(str(j),\")\",tweet.text)\n",
    "    j+=1"
   ]
  },
  {
   "cell_type": "markdown",
   "metadata": {},
   "source": [
    "### converting tweets into pandas dataframe"
   ]
  },
  {
   "cell_type": "code",
   "execution_count": 193,
   "metadata": {},
   "outputs": [],
   "source": [
    "data = pd.DataFrame([tweet.text for tweet in posts],columns=[\"Tweets\"])"
   ]
  },
  {
   "cell_type": "code",
   "execution_count": 194,
   "metadata": {},
   "outputs": [
    {
     "data": {
      "text/html": [
       "<div>\n",
       "<style scoped>\n",
       "    .dataframe tbody tr th:only-of-type {\n",
       "        vertical-align: middle;\n",
       "    }\n",
       "\n",
       "    .dataframe tbody tr th {\n",
       "        vertical-align: top;\n",
       "    }\n",
       "\n",
       "    .dataframe thead th {\n",
       "        text-align: right;\n",
       "    }\n",
       "</style>\n",
       "<table border=\"1\" class=\"dataframe\">\n",
       "  <thead>\n",
       "    <tr style=\"text-align: right;\">\n",
       "      <th></th>\n",
       "      <th>Tweets</th>\n",
       "    </tr>\n",
       "  </thead>\n",
       "  <tbody>\n",
       "    <tr>\n",
       "      <th>0</th>\n",
       "      <td>RT @BLUEPRINT_Q: Proven by NIH 15 years ago, H...</td>\n",
       "    </tr>\n",
       "    <tr>\n",
       "      <th>1</th>\n",
       "      <td>RT @HollywoodKole: @petty_marshall That's beca...</td>\n",
       "    </tr>\n",
       "    <tr>\n",
       "      <th>2</th>\n",
       "      <td>@Ilhan That's the Corona death rate. Vote in p...</td>\n",
       "    </tr>\n",
       "    <tr>\n",
       "      <th>3</th>\n",
       "      <td>RT @DushyantR3: #No_offline_Exam_Gehlot_Ji \\n#...</td>\n",
       "    </tr>\n",
       "    <tr>\n",
       "      <th>4</th>\n",
       "      <td>RT @clownlito: I wish corona virus started in ...</td>\n",
       "    </tr>\n",
       "  </tbody>\n",
       "</table>\n",
       "</div>"
      ],
      "text/plain": [
       "                                              Tweets\n",
       "0  RT @BLUEPRINT_Q: Proven by NIH 15 years ago, H...\n",
       "1  RT @HollywoodKole: @petty_marshall That's beca...\n",
       "2  @Ilhan That's the Corona death rate. Vote in p...\n",
       "3  RT @DushyantR3: #No_offline_Exam_Gehlot_Ji \\n#...\n",
       "4  RT @clownlito: I wish corona virus started in ..."
      ]
     },
     "execution_count": 194,
     "metadata": {},
     "output_type": "execute_result"
    }
   ],
   "source": [
    "data.head()"
   ]
  },
  {
   "cell_type": "markdown",
   "metadata": {},
   "source": [
    "### cleaning Data"
   ]
  },
  {
   "cell_type": "code",
   "execution_count": 195,
   "metadata": {},
   "outputs": [],
   "source": [
    "def clean(text):\n",
    "    text = re.sub(r'@[A-za-z0-9]+','',text)   # Removing Mentions @billgates\n",
    "    text = re.sub(r'#','',text)        # Removing #Tags\n",
    "    text = re.sub(r'https?:\\/\\/\\S+','',text)  # Removing Hyper links\n",
    "    text = re.sub('RT[\\s]+','',text)          # Removing RT\n",
    "    pattern = re.compile('[\\U00010000-\\U0010ffff]', flags=re.UNICODE)\n",
    "    text=re.sub(pattern,'',text)  #Removing emojis\n",
    "    return text\n",
    "data[\"Tweets\"] = data[\"Tweets\"].apply(clean)"
   ]
  },
  {
   "cell_type": "code",
   "execution_count": 196,
   "metadata": {},
   "outputs": [
    {
     "data": {
      "text/html": [
       "<div>\n",
       "<style scoped>\n",
       "    .dataframe tbody tr th:only-of-type {\n",
       "        vertical-align: middle;\n",
       "    }\n",
       "\n",
       "    .dataframe tbody tr th {\n",
       "        vertical-align: top;\n",
       "    }\n",
       "\n",
       "    .dataframe thead th {\n",
       "        text-align: right;\n",
       "    }\n",
       "</style>\n",
       "<table border=\"1\" class=\"dataframe\">\n",
       "  <thead>\n",
       "    <tr style=\"text-align: right;\">\n",
       "      <th></th>\n",
       "      <th>Tweets</th>\n",
       "    </tr>\n",
       "  </thead>\n",
       "  <tbody>\n",
       "    <tr>\n",
       "      <th>0</th>\n",
       "      <td>: Proven by NIH 15 years ago, HCQ prevents and...</td>\n",
       "    </tr>\n",
       "    <tr>\n",
       "      <th>1</th>\n",
       "      <td>:  That's because corona snatched all our cloc...</td>\n",
       "    </tr>\n",
       "    <tr>\n",
       "      <th>2</th>\n",
       "      <td>That's the Corona death rate. Vote in person!</td>\n",
       "    </tr>\n",
       "    <tr>\n",
       "      <th>3</th>\n",
       "      <td>: No_offline_Exam_Gehlot_Ji \\npostponeNEETandJ...</td>\n",
       "    </tr>\n",
       "    <tr>\n",
       "      <th>4</th>\n",
       "      <td>: I wish corona virus started in Las Vegas cuz...</td>\n",
       "    </tr>\n",
       "  </tbody>\n",
       "</table>\n",
       "</div>"
      ],
      "text/plain": [
       "                                              Tweets\n",
       "0  : Proven by NIH 15 years ago, HCQ prevents and...\n",
       "1  :  That's because corona snatched all our cloc...\n",
       "2      That's the Corona death rate. Vote in person!\n",
       "3  : No_offline_Exam_Gehlot_Ji \\npostponeNEETandJ...\n",
       "4  : I wish corona virus started in Las Vegas cuz..."
      ]
     },
     "execution_count": 196,
     "metadata": {},
     "output_type": "execute_result"
    }
   ],
   "source": [
    "data.head()"
   ]
  },
  {
   "cell_type": "markdown",
   "metadata": {},
   "source": [
    "### Getting Polarity"
   ]
  },
  {
   "cell_type": "code",
   "execution_count": 197,
   "metadata": {},
   "outputs": [],
   "source": [
    "# Getting Polarity\n",
    "def polarity(text):\n",
    "    return TextBlob(text).sentiment.polarity\n",
    "data[\"Polarity\"] = data[\"Tweets\"].apply(polarity)"
   ]
  },
  {
   "cell_type": "code",
   "execution_count": 198,
   "metadata": {},
   "outputs": [
    {
     "data": {
      "text/html": [
       "<div>\n",
       "<style scoped>\n",
       "    .dataframe tbody tr th:only-of-type {\n",
       "        vertical-align: middle;\n",
       "    }\n",
       "\n",
       "    .dataframe tbody tr th {\n",
       "        vertical-align: top;\n",
       "    }\n",
       "\n",
       "    .dataframe thead th {\n",
       "        text-align: right;\n",
       "    }\n",
       "</style>\n",
       "<table border=\"1\" class=\"dataframe\">\n",
       "  <thead>\n",
       "    <tr style=\"text-align: right;\">\n",
       "      <th></th>\n",
       "      <th>Tweets</th>\n",
       "      <th>Polarity</th>\n",
       "    </tr>\n",
       "  </thead>\n",
       "  <tbody>\n",
       "    <tr>\n",
       "      <th>0</th>\n",
       "      <td>: Proven by NIH 15 years ago, HCQ prevents and...</td>\n",
       "      <td>0.1</td>\n",
       "    </tr>\n",
       "    <tr>\n",
       "      <th>1</th>\n",
       "      <td>:  That's because corona snatched all our cloc...</td>\n",
       "      <td>-0.1</td>\n",
       "    </tr>\n",
       "    <tr>\n",
       "      <th>2</th>\n",
       "      <td>That's the Corona death rate. Vote in person!</td>\n",
       "      <td>0.0</td>\n",
       "    </tr>\n",
       "    <tr>\n",
       "      <th>3</th>\n",
       "      <td>: No_offline_Exam_Gehlot_Ji \\npostponeNEETandJ...</td>\n",
       "      <td>0.0</td>\n",
       "    </tr>\n",
       "    <tr>\n",
       "      <th>4</th>\n",
       "      <td>: I wish corona virus started in Las Vegas cuz...</td>\n",
       "      <td>0.0</td>\n",
       "    </tr>\n",
       "  </tbody>\n",
       "</table>\n",
       "</div>"
      ],
      "text/plain": [
       "                                              Tweets  Polarity\n",
       "0  : Proven by NIH 15 years ago, HCQ prevents and...       0.1\n",
       "1  :  That's because corona snatched all our cloc...      -0.1\n",
       "2      That's the Corona death rate. Vote in person!       0.0\n",
       "3  : No_offline_Exam_Gehlot_Ji \\npostponeNEETandJ...       0.0\n",
       "4  : I wish corona virus started in Las Vegas cuz...       0.0"
      ]
     },
     "execution_count": 198,
     "metadata": {},
     "output_type": "execute_result"
    }
   ],
   "source": [
    "data.head()"
   ]
  },
  {
   "cell_type": "markdown",
   "metadata": {},
   "source": [
    "### Getting Subjectivity"
   ]
  },
  {
   "cell_type": "code",
   "execution_count": 199,
   "metadata": {},
   "outputs": [],
   "source": [
    "# getting subjectivity\n",
    "def getSubjectivity(text):\n",
    "    return TextBlob(text).sentiment.subjectivity\n",
    "data[\"Subjectivity\"] = data[\"Tweets\"].apply(getSubjectivity)"
   ]
  },
  {
   "cell_type": "code",
   "execution_count": 200,
   "metadata": {},
   "outputs": [
    {
     "data": {
      "text/html": [
       "<div>\n",
       "<style scoped>\n",
       "    .dataframe tbody tr th:only-of-type {\n",
       "        vertical-align: middle;\n",
       "    }\n",
       "\n",
       "    .dataframe tbody tr th {\n",
       "        vertical-align: top;\n",
       "    }\n",
       "\n",
       "    .dataframe thead th {\n",
       "        text-align: right;\n",
       "    }\n",
       "</style>\n",
       "<table border=\"1\" class=\"dataframe\">\n",
       "  <thead>\n",
       "    <tr style=\"text-align: right;\">\n",
       "      <th></th>\n",
       "      <th>Tweets</th>\n",
       "      <th>Polarity</th>\n",
       "      <th>Subjectivity</th>\n",
       "    </tr>\n",
       "  </thead>\n",
       "  <tbody>\n",
       "    <tr>\n",
       "      <th>0</th>\n",
       "      <td>: Proven by NIH 15 years ago, HCQ prevents and...</td>\n",
       "      <td>0.1</td>\n",
       "      <td>0.3</td>\n",
       "    </tr>\n",
       "    <tr>\n",
       "      <th>1</th>\n",
       "      <td>:  That's because corona snatched all our cloc...</td>\n",
       "      <td>-0.1</td>\n",
       "      <td>0.2</td>\n",
       "    </tr>\n",
       "    <tr>\n",
       "      <th>2</th>\n",
       "      <td>That's the Corona death rate. Vote in person!</td>\n",
       "      <td>0.0</td>\n",
       "      <td>0.0</td>\n",
       "    </tr>\n",
       "    <tr>\n",
       "      <th>3</th>\n",
       "      <td>: No_offline_Exam_Gehlot_Ji \\npostponeNEETandJ...</td>\n",
       "      <td>0.0</td>\n",
       "      <td>0.0</td>\n",
       "    </tr>\n",
       "    <tr>\n",
       "      <th>4</th>\n",
       "      <td>: I wish corona virus started in Las Vegas cuz...</td>\n",
       "      <td>0.0</td>\n",
       "      <td>0.0</td>\n",
       "    </tr>\n",
       "  </tbody>\n",
       "</table>\n",
       "</div>"
      ],
      "text/plain": [
       "                                              Tweets  Polarity  Subjectivity\n",
       "0  : Proven by NIH 15 years ago, HCQ prevents and...       0.1           0.3\n",
       "1  :  That's because corona snatched all our cloc...      -0.1           0.2\n",
       "2      That's the Corona death rate. Vote in person!       0.0           0.0\n",
       "3  : No_offline_Exam_Gehlot_Ji \\npostponeNEETandJ...       0.0           0.0\n",
       "4  : I wish corona virus started in Las Vegas cuz...       0.0           0.0"
      ]
     },
     "execution_count": 200,
     "metadata": {},
     "output_type": "execute_result"
    }
   ],
   "source": [
    "data.head()"
   ]
  },
  {
   "cell_type": "markdown",
   "metadata": {},
   "source": [
    "### Plotting WordCloud for all the tweets"
   ]
  },
  {
   "cell_type": "code",
   "execution_count": 201,
   "metadata": {},
   "outputs": [
    {
     "data": {
      "image/png": "[encoded data removed]",
      "text/plain": [
       "<Figure size 432x288 with 1 Axes>"
      ]
     },
     "metadata": {
      "needs_background": "light"
     },
     "output_type": "display_data"
    }
   ],
   "source": [
    "allwords = ' '.join([tweet for tweet in data[\"Tweets\"]])\n",
    "wordcloud = WordCloud(height=500,width=800,background_color=\"white\").generate(allwords)\n",
    "plt.imshow(wordcloud,interpolation=\"bilinear\")\n",
    "plt.axis('off')\n",
    "plt.show()"
   ]
  },
  {
   "cell_type": "markdown",
   "metadata": {},
   "source": [
    "### create a function to compute the Negative , Neutral , Positive Analysis"
   ]
  },
  {
   "cell_type": "code",
   "execution_count": 202,
   "metadata": {},
   "outputs": [],
   "source": [
    "def analysis(score):\n",
    "    if score < 0:\n",
    "        return 'Negative'\n",
    "    elif score == 0:\n",
    "        return 'Neutral'\n",
    "    else:\n",
    "        return 'Positive'\n",
    "data[\"Analysis\"] = data[\"Polarity\"].apply(analysis)"
   ]
  },
  {
   "cell_type": "code",
   "execution_count": 203,
   "metadata": {},
   "outputs": [
    {
     "data": {
      "text/html": [
       "<div>\n",
       "<style scoped>\n",
       "    .dataframe tbody tr th:only-of-type {\n",
       "        vertical-align: middle;\n",
       "    }\n",
       "\n",
       "    .dataframe tbody tr th {\n",
       "        vertical-align: top;\n",
       "    }\n",
       "\n",
       "    .dataframe thead th {\n",
       "        text-align: right;\n",
       "    }\n",
       "</style>\n",
       "<table border=\"1\" class=\"dataframe\">\n",
       "  <thead>\n",
       "    <tr style=\"text-align: right;\">\n",
       "      <th></th>\n",
       "      <th>Tweets</th>\n",
       "      <th>Polarity</th>\n",
       "      <th>Subjectivity</th>\n",
       "      <th>Analysis</th>\n",
       "    </tr>\n",
       "  </thead>\n",
       "  <tbody>\n",
       "    <tr>\n",
       "      <th>0</th>\n",
       "      <td>: Proven by NIH 15 years ago, HCQ prevents and...</td>\n",
       "      <td>0.1</td>\n",
       "      <td>0.3</td>\n",
       "      <td>Positive</td>\n",
       "    </tr>\n",
       "    <tr>\n",
       "      <th>1</th>\n",
       "      <td>:  That's because corona snatched all our cloc...</td>\n",
       "      <td>-0.1</td>\n",
       "      <td>0.2</td>\n",
       "      <td>Negative</td>\n",
       "    </tr>\n",
       "    <tr>\n",
       "      <th>2</th>\n",
       "      <td>That's the Corona death rate. Vote in person!</td>\n",
       "      <td>0.0</td>\n",
       "      <td>0.0</td>\n",
       "      <td>Neutral</td>\n",
       "    </tr>\n",
       "    <tr>\n",
       "      <th>3</th>\n",
       "      <td>: No_offline_Exam_Gehlot_Ji \\npostponeNEETandJ...</td>\n",
       "      <td>0.0</td>\n",
       "      <td>0.0</td>\n",
       "      <td>Neutral</td>\n",
       "    </tr>\n",
       "    <tr>\n",
       "      <th>4</th>\n",
       "      <td>: I wish corona virus started in Las Vegas cuz...</td>\n",
       "      <td>0.0</td>\n",
       "      <td>0.0</td>\n",
       "      <td>Neutral</td>\n",
       "    </tr>\n",
       "  </tbody>\n",
       "</table>\n",
       "</div>"
      ],
      "text/plain": [
       "                                              Tweets  Polarity  Subjectivity  \\\n",
       "0  : Proven by NIH 15 years ago, HCQ prevents and...       0.1           0.3   \n",
       "1  :  That's because corona snatched all our cloc...      -0.1           0.2   \n",
       "2      That's the Corona death rate. Vote in person!       0.0           0.0   \n",
       "3  : No_offline_Exam_Gehlot_Ji \\npostponeNEETandJ...       0.0           0.0   \n",
       "4  : I wish corona virus started in Las Vegas cuz...       0.0           0.0   \n",
       "\n",
       "   Analysis  \n",
       "0  Positive  \n",
       "1  Negative  \n",
       "2   Neutral  \n",
       "3   Neutral  \n",
       "4   Neutral  "
      ]
     },
     "execution_count": 203,
     "metadata": {},
     "output_type": "execute_result"
    }
   ],
   "source": [
    "data.head()"
   ]
  },
  {
   "cell_type": "markdown",
   "metadata": {},
   "source": [
    "### printing positive tweets"
   ]
  },
  {
   "cell_type": "code",
   "execution_count": 204,
   "metadata": {},
   "outputs": [
    {
     "name": "stdout",
     "output_type": "stream",
     "text": [
      "1 ) : Proven by NIH 15 years ago, HCQ prevents and cures early stage corona infection by piercing the cell, enabling Zinc to ent…\n",
      "\n",
      "\n",
      "2 ) : I was the first to warn about Corona in Telangana assembly in March, now ready to be the voice of voiceless on public iss…\n",
      "\n",
      "\n",
      "3 ) : After 36 days of struggle finally my dad is back to home...My own Amit shah \n",
      "Thank you so much for all the love, wishes…\n",
      "\n",
      "\n",
      "4 ) : \"Manaki raadhu le\" is one of the reasons why we have so many cases of Corona right now.\n",
      "\n",
      "\n",
      "5 ) : Proven by NIH 15 years ago, HCQ prevents and cures early stage corona infection by piercing the cell, enabling Zinc to ent…\n",
      "\n",
      "\n",
      "6 ) : Get ready for “I would’ve went D1 but corona happened”\n",
      "\n",
      "\n",
      "7 ) : it’s the way i’ve been in 5 fake relationships since corona starteddddddd what’s my issue LMAO\n",
      "\n",
      "\n",
      "8 )  Colombia coronavirus COVID-19 report for Sunday, September 6th:\n",
      "\n",
      "658,456 confirmed cases (+8,401)\n",
      "21,156 deaths… \n",
      "\n",
      "\n",
      "9 ) Lots of good news on the COVID19 front lately:\n",
      "\n",
      "- only 4.5% of cases required hospitalization in August (record lo… \n",
      "\n",
      "\n",
      "10 ) : Here are some SIGNIFICANT stats, for Shri Piyush Goyal:\n",
      "\n",
      "● GDP is -23.9%\n",
      "● Unemployment rate is 8.35%\n",
      "● Corona count is no…\n",
      "\n",
      "\n",
      "11 ) December will be corona free just for Sudanese people to have our big come back for Equatorian day \n",
      "\n",
      "\n",
      "12 ) : Let me tell you. The only 'inconvenience' healthy ppl like you &amp; me may endure from a Corona Virus infection could be an u…\n",
      "\n",
      "\n",
      "13 ) : blocking people who choose to publicly dismiss the seriousness of COVID &gt;&gt;&gt;&gt; I’m enjoying this.\n",
      "\n",
      "15 people I personally k…\n",
      "\n",
      "\n",
      "14 ) Man look whatever the fuck y’all breathing got bitches pregnant from left to right. This mask is no longer just protecting me from corona\n",
      "\n",
      "\n",
      "15 ) :     Managements of Great Value Sharanam Society Sec 107 has decided to incr…\n",
      "\n",
      "\n",
      "16 )  the corona virus has forced us to see once again families , the home as the primary source and those resp… \n",
      "\n",
      "\n",
      "17 )   But, KANI, the number of new CORONA cases also drastically increased in INDIA.\n",
      "Did you notice… \n",
      "\n",
      "\n",
      "18 )  Lol. I got a hotel room the last time I went to a show at the 9:30 Club before corona because I jus… \n",
      "\n",
      "\n",
      "19 )    Hey, the economic policy is not bad at all. Congress had left the economy… \n",
      "\n",
      "\n",
      "20 )   DemocRATS played the CORONA SONG too early ..3 on hit chart \n",
      "\n",
      "\n",
      "21 ) : Covid Free! \n",
      "Sem Corona!  \n",
      "\n",
      "\n",
      "22 ) Another precious soul taken away from us because of this Corona. I hope you stay at home and pls, Wear your mask. R… \n",
      "\n",
      "\n",
      "23 ) : All the religious and social organisations and places of worship in India have displayed immense self-restraint, self-dis…\n",
      "\n",
      "\n",
      "24 ) : From corona  has been “perfectly handled” Health Minister Mikakos we have today’s buzz words “ aggressive suppression”  Can s…\n",
      "\n",
      "\n",
      "25 ) : If Bryson Tiller tells Corona “Don’t” life will be back to normal guaranteed\n",
      "\n",
      "\n"
     ]
    }
   ],
   "source": [
    "\n",
    "j=1\n",
    "sorted_data = data.sort_values(by=\"Polarity\")\n",
    "for i in range(0,sorted_data.shape[0]):\n",
    "    if sorted_data[\"Analysis\"][i] == \"Positive\":\n",
    "        print(str(j),\")\",sorted_data[\"Tweets\"][i])\n",
    "        print('\\n')\n",
    "        j+=1\n",
    "        "
   ]
  },
  {
   "cell_type": "markdown",
   "metadata": {},
   "source": [
    "#### printing Negative Tweets"
   ]
  },
  {
   "cell_type": "code",
   "execution_count": 205,
   "metadata": {},
   "outputs": [
    {
     "name": "stdout",
     "output_type": "stream",
     "text": [
      "1 ) :  That's because corona snatched all our clocks. Mentally it's still March cause we haven't done any of th…\n",
      "\n",
      "\n",
      "2 ) : What's the latest, horrible, outrageous Orange Man Bad scandal for today? Russia collusion didn't work. Impeachment didn'…\n",
      "\n",
      "\n",
      "3 ) Corona Cases Yesterday - 90k ‍♂️\n",
      "Highest Ever on a Single Day.. \n",
      "\n",
      "SarkaruVaariPaata\n",
      "\n",
      "\n",
      "4 )  Any sickness with an underlying condition is dangerous. When I got it 3 weeks ago I had no clue. M… \n",
      "\n",
      "\n",
      "5 ) : after corona can we PLEASE normalise wearing masks when you’re sick? there is no reason why little billy should be allowed t…\n",
      "\n",
      "\n",
      "6 ) : after corona can we PLEASE normalise wearing masks when you’re sick? there is no reason why little billy should be allowed t…\n",
      "\n",
      "\n",
      "7 ) : after corona can we PLEASE normalise wearing masks when you’re sick? there is no reason why little billy should be allowed t…\n",
      "\n",
      "\n",
      "8 ) : after corona can we PLEASE normalise wearing masks when you’re sick? there is no reason why little billy should be allowed t…\n",
      "\n",
      "\n",
      "9 )  That's because corona snatched all our clocks. Mentally it's still March cause we haven't done any… \n",
      "\n",
      "\n",
      "10 ) I blame corona for this, I've been having sudden negative emotions ever since the quarantine started.\n",
      "\n",
      "\n",
      "11 ) : after corona can we PLEASE normalise wearing masks when you’re sick? there is no reason why little billy should be allowed t…\n",
      "\n",
      "\n",
      "12 ) : after corona can we PLEASE normalise wearing masks when you’re sick? there is no reason why little billy should be allowed t…\n",
      "\n",
      "\n",
      "13 ) : after corona can we PLEASE normalise wearing masks when you’re sick? there is no reason why little billy should be allowed t…\n",
      "\n",
      "\n",
      "14 ) Everytime I see him, I think about that concert he was trying to have before corona and it was doing horrible with… \n",
      "\n",
      "\n",
      "15 )   Other than giving the wish, is your govt doing something to control the corona? 4 out… \n",
      "\n",
      "\n",
      "16 ) : Followers of almost all religions of world reside in India. Various festivals &amp; other auspicious occasions were observed…\n",
      "\n",
      "\n",
      "17 ) : Here’s a tip: 12oz each of limeade concentrate, Corona, tequila, and lemon-lime soda. The result is shockingly well-balance…\n",
      "\n",
      "\n",
      "18 ) : after corona can we PLEASE normalise wearing masks when you’re sick? there is no reason why little billy should be allowed t…\n",
      "\n",
      "\n"
     ]
    }
   ],
   "source": [
    "j=1\n",
    "for i in range(0,sorted_data.shape[0]):\n",
    "    if sorted_data[\"Analysis\"][i] == \"Negative\":\n",
    "        print(str(j),\")\",sorted_data[\"Tweets\"][i])\n",
    "        print(\"\\n\")\n",
    "        j+=1"
   ]
  },
  {
   "cell_type": "markdown",
   "metadata": {},
   "source": [
    "### Plotting the polarity"
   ]
  },
  {
   "cell_type": "code",
   "execution_count": 206,
   "metadata": {},
   "outputs": [
    {
     "data": {
      "text/plain": [
       "Text(0.5, 1.0, 'Corona Reaction on Twitter')"
      ]
     },
     "execution_count": 206,
     "metadata": {},
     "output_type": "execute_result"
    },
    {
     "data": {
      "image/png": "[encoded data removed]",
      "text/plain": [
       "<Figure size 576x432 with 1 Axes>"
      ]
     },
     "metadata": {
      "needs_background": "light"
     },
     "output_type": "display_data"
    }
   ],
   "source": [
    "plt.figure(figsize=(8,6))\n",
    "for i in range(0,data.shape[0]):\n",
    "    plt.scatter(data[\"Polarity\"],data[\"Subjectivity\"],color=\"green\")\n",
    "plt.xlabel(\"Polarity\")\n",
    "plt.ylabel(\"Subjectivity\")\n",
    "plt.title(\"Corona Reaction on Twitter\")\n"
   ]
  },
  {
   "cell_type": "markdown",
   "metadata": {},
   "source": [
    "### Percentage of positive tweets"
   ]
  },
  {
   "cell_type": "code",
   "execution_count": 207,
   "metadata": {},
   "outputs": [
    {
     "name": "stdout",
     "output_type": "stream",
     "text": [
      "25.0\n"
     ]
    }
   ],
   "source": [
    "positive = data[data[\"Analysis\"] == \"Positive\"]\n",
    "positive = positive[\"Tweets\"]\n",
    "print((positive.shape[0]/data.shape[0])*100)"
   ]
  },
  {
   "cell_type": "markdown",
   "metadata": {},
   "source": [
    "### Percentage of Negative Tweets"
   ]
  },
  {
   "cell_type": "code",
   "execution_count": 208,
   "metadata": {},
   "outputs": [
    {
     "name": "stdout",
     "output_type": "stream",
     "text": [
      "18.0\n"
     ]
    }
   ],
   "source": [
    "Negative = data[data[\"Analysis\"] == \"Negative\"]\n",
    "Negative = Negative[\"Tweets\"]\n",
    "print((Negative.shape[0]/data.shape[0])*100)"
   ]
  },
  {
   "cell_type": "markdown",
   "metadata": {},
   "source": [
    "### Percentage of Neutral Tweets"
   ]
  },
  {
   "cell_type": "code",
   "execution_count": 209,
   "metadata": {},
   "outputs": [
    {
     "name": "stdout",
     "output_type": "stream",
     "text": [
      "56.99999999999999\n"
     ]
    }
   ],
   "source": [
    "Neutral = data[data[\"Analysis\"] == \"Neutral\"]\n",
    "Neutral = Neutral[\"Tweets\"]\n",
    "print((Neutral.shape[0]/data.shape[0])*100)"
   ]
  },
  {
   "cell_type": "markdown",
   "metadata": {},
   "source": [
    "### Overall Reaction "
   ]
  },
  {
   "cell_type": "code",
   "execution_count": 210,
   "metadata": {},
   "outputs": [
    {
     "data": {
      "text/plain": [
       "<matplotlib.axes._subplots.AxesSubplot at 0x19210258f60>"
      ]
     },
     "execution_count": 210,
     "metadata": {},
     "output_type": "execute_result"
    },
    {
     "data": {
      "image/png": "[encoded data removed]",
      "text/plain": [
       "<Figure size 432x288 with 1 Axes>"
      ]
     },
     "metadata": {
      "needs_background": "light"
     },
     "output_type": "display_data"
    }
   ],
   "source": [
    "sns.countplot(data[\"Analysis\"])"
   ]
  },
  {
   "cell_type": "code",
   "execution_count": null,
   "metadata": {},
   "outputs": [],
   "source": []
  },
  {
   "cell_type": "code",
   "execution_count": null,
   "metadata": {},
   "outputs": [],
   "source": []
  }
 ],
 "metadata": {
  "kernelspec": {
   "display_name": "Python 3",
   "language": "python",
   "name": "python3"
  },
  "language_info": {
   "codemirror_mode": {
    "name": "ipython",
    "version": 3
   },
   "file_extension": ".py",
   "mimetype": "text/x-python",
   "name": "python",
   "nbconvert_exporter": "python",
   "pygments_lexer": "ipython3",
   "version": "3.7.3"
  }
 },
 "nbformat": 4,
 "nbformat_minor": 2
}
